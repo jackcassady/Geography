{
 "cells": [
  {
   "cell_type": "code",
   "execution_count": 1,
   "metadata": {},
   "outputs": [],
   "source": [
    "import time, requests, os, json"
   ]
  },
  {
   "cell_type": "code",
   "execution_count": 2,
   "metadata": {},
   "outputs": [],
   "source": [
    "from math import radians, cos, sin, asin, sqrt"
   ]
  },
  {
   "cell_type": "code",
   "execution_count": 3,
   "metadata": {},
   "outputs": [],
   "source": [
    "import pandas as pd\n",
    "from pandas import DataFrame, Series\n",
    "from bs4 import BeautifulSoup\n",
    "import matplotlib\n",
    "import numpy as np\n",
    "import sqlite3\n",
    "%matplotlib inline"
   ]
  },
  {
   "cell_type": "code",
   "execution_count": 4,
   "metadata": {},
   "outputs": [],
   "source": [
    "def download(filename, url):\n",
    "    # We do not download again if the file already exists\n",
    "    if os.path.exists(filename):\n",
    "        return (str(filename) + \" already exists!\")\n",
    "\n",
    "    else:\n",
    "        r = requests.get(url)\n",
    "        data = r.text\n",
    "        \n",
    "        f = open(filename, \"w\", encoding=\"utf-8\")\n",
    "        f.write(data)\n",
    "        f.close()\n",
    "    \n",
    "\n",
    "    return (str(filename) + \" created!\")"
   ]
  },
  {
   "cell_type": "code",
   "execution_count": 5,
   "metadata": {},
   "outputs": [
    {
     "data": {
      "text/plain": [
       "'countries.json already exists!'"
      ]
     },
     "execution_count": 5,
     "metadata": {},
     "output_type": "execute_result"
    }
   ],
   "source": [
    "download('countries.json', \"https://raw.githubusercontent.com/tylerharter/caraza-harter-com/master/tyler/cs301/fall19/data/countries.json\")"
   ]
  },
  {
   "cell_type": "code",
   "execution_count": 6,
   "metadata": {},
   "outputs": [],
   "source": [
    "# convert countries.json into pandas database\n",
    "countries = pd.read_json('countries.json')"
   ]
  },
  {
   "cell_type": "code",
   "execution_count": 7,
   "metadata": {},
   "outputs": [
    {
     "data": {
      "text/html": [
       "<div>\n",
       "<style scoped>\n",
       "    .dataframe tbody tr th:only-of-type {\n",
       "        vertical-align: middle;\n",
       "    }\n",
       "\n",
       "    .dataframe tbody tr th {\n",
       "        vertical-align: top;\n",
       "    }\n",
       "\n",
       "    .dataframe thead th {\n",
       "        text-align: right;\n",
       "    }\n",
       "</style>\n",
       "<table border=\"1\" class=\"dataframe\">\n",
       "  <thead>\n",
       "    <tr style=\"text-align: right;\">\n",
       "      <th></th>\n",
       "      <th>area</th>\n",
       "      <th>birth-rate</th>\n",
       "      <th>coastline</th>\n",
       "      <th>continent</th>\n",
       "      <th>country</th>\n",
       "      <th>death-rate</th>\n",
       "      <th>gdp-per-capita</th>\n",
       "      <th>infant-mortality</th>\n",
       "      <th>literacy</th>\n",
       "      <th>net-migration</th>\n",
       "      <th>phones</th>\n",
       "      <th>population</th>\n",
       "      <th>region</th>\n",
       "    </tr>\n",
       "  </thead>\n",
       "  <tbody>\n",
       "    <tr>\n",
       "      <td>0</td>\n",
       "      <td>756950</td>\n",
       "      <td>15.23</td>\n",
       "      <td>0.85</td>\n",
       "      <td>South America</td>\n",
       "      <td>Chile</td>\n",
       "      <td>5.81</td>\n",
       "      <td>9900</td>\n",
       "      <td>8.80</td>\n",
       "      <td>96,2</td>\n",
       "      <td>0.00</td>\n",
       "      <td>213,0</td>\n",
       "      <td>16134219</td>\n",
       "      <td>LATIN AMER. &amp; CARIB</td>\n",
       "    </tr>\n",
       "    <tr>\n",
       "      <td>1</td>\n",
       "      <td>665</td>\n",
       "      <td>17.80</td>\n",
       "      <td>24.21</td>\n",
       "      <td>Asia</td>\n",
       "      <td>Bahrain</td>\n",
       "      <td>4.14</td>\n",
       "      <td>16900</td>\n",
       "      <td>17.27</td>\n",
       "      <td>89,1</td>\n",
       "      <td>1.05</td>\n",
       "      <td>281,3</td>\n",
       "      <td>698585</td>\n",
       "      <td>NEAR EAST</td>\n",
       "    </tr>\n",
       "    <tr>\n",
       "      <td>2</td>\n",
       "      <td>22966</td>\n",
       "      <td>28.84</td>\n",
       "      <td>1.68</td>\n",
       "      <td>North America</td>\n",
       "      <td>Belize</td>\n",
       "      <td>5.72</td>\n",
       "      <td>4900</td>\n",
       "      <td>25.69</td>\n",
       "      <td>94,1</td>\n",
       "      <td>0.00</td>\n",
       "      <td>115,7</td>\n",
       "      <td>287730</td>\n",
       "      <td>LATIN AMER. &amp; CARIB</td>\n",
       "    </tr>\n",
       "    <tr>\n",
       "      <td>3</td>\n",
       "      <td>582650</td>\n",
       "      <td>39.72</td>\n",
       "      <td>0.09</td>\n",
       "      <td>Africa</td>\n",
       "      <td>Kenya</td>\n",
       "      <td>14.02</td>\n",
       "      <td>1000</td>\n",
       "      <td>61.47</td>\n",
       "      <td>85,1</td>\n",
       "      <td>-0.10</td>\n",
       "      <td>8,1</td>\n",
       "      <td>34707817</td>\n",
       "      <td>SUB-SAHARAN AFRICA</td>\n",
       "    </tr>\n",
       "    <tr>\n",
       "      <td>4</td>\n",
       "      <td>11854</td>\n",
       "      <td>33.05</td>\n",
       "      <td>3.12</td>\n",
       "      <td>Australia</td>\n",
       "      <td>Marshall Islands</td>\n",
       "      <td>4.78</td>\n",
       "      <td>1600</td>\n",
       "      <td>29.45</td>\n",
       "      <td>93,7</td>\n",
       "      <td>-6.04</td>\n",
       "      <td>91,2</td>\n",
       "      <td>60422</td>\n",
       "      <td>OCEANIA</td>\n",
       "    </tr>\n",
       "  </tbody>\n",
       "</table>\n",
       "</div>"
      ],
      "text/plain": [
       "     area  birth-rate  coastline      continent           country  death-rate  \\\n",
       "0  756950       15.23       0.85  South America             Chile        5.81   \n",
       "1     665       17.80      24.21           Asia           Bahrain        4.14   \n",
       "2   22966       28.84       1.68  North America            Belize        5.72   \n",
       "3  582650       39.72       0.09         Africa             Kenya       14.02   \n",
       "4   11854       33.05       3.12      Australia  Marshall Islands        4.78   \n",
       "\n",
       "   gdp-per-capita  infant-mortality literacy  net-migration phones  \\\n",
       "0            9900              8.80     96,2           0.00  213,0   \n",
       "1           16900             17.27     89,1           1.05  281,3   \n",
       "2            4900             25.69     94,1           0.00  115,7   \n",
       "3            1000             61.47     85,1          -0.10    8,1   \n",
       "4            1600             29.45     93,7          -6.04   91,2   \n",
       "\n",
       "   population               region  \n",
       "0    16134219  LATIN AMER. & CARIB  \n",
       "1      698585            NEAR EAST  \n",
       "2      287730  LATIN AMER. & CARIB  \n",
       "3    34707817   SUB-SAHARAN AFRICA  \n",
       "4       60422              OCEANIA  "
      ]
     },
     "execution_count": 7,
     "metadata": {},
     "output_type": "execute_result"
    }
   ],
   "source": [
    "# first five entries in countries database\n",
    "countries.head()"
   ]
  },
  {
   "cell_type": "code",
   "execution_count": 8,
   "metadata": {},
   "outputs": [
    {
     "data": {
      "text/plain": [
       "174"
      ]
     },
     "execution_count": 8,
     "metadata": {},
     "output_type": "execute_result"
    }
   ],
   "source": [
    "# number of countries in countries database\n",
    "len(countries)"
   ]
  },
  {
   "cell_type": "code",
   "execution_count": 9,
   "metadata": {},
   "outputs": [
    {
     "data": {
      "text/plain": [
       "127170843"
      ]
     },
     "execution_count": 9,
     "metadata": {},
     "output_type": "execute_result"
    }
   ],
   "source": [
    "# total area of all the countries in the database\n",
    "countries['area'].sum()"
   ]
  },
  {
   "cell_type": "code",
   "execution_count": 10,
   "metadata": {},
   "outputs": [
    {
     "data": {
      "text/plain": [
       "'capitals.html already exists!'"
      ]
     },
     "execution_count": 10,
     "metadata": {},
     "output_type": "execute_result"
    }
   ],
   "source": [
    "download('capitals.html', 'https://raw.githubusercontent.com/tylerharter/cs301-projects/master/fall19/p10/techslides-snapshot.html')"
   ]
  },
  {
   "cell_type": "code",
   "execution_count": 11,
   "metadata": {},
   "outputs": [],
   "source": [
    "# getting html from capitals.html\n",
    "f = open(\"capitals.html\", encoding=\"utf-8\")\n",
    "capitals_data = f.read()\n",
    "f.close()"
   ]
  },
  {
   "cell_type": "code",
   "execution_count": 12,
   "metadata": {},
   "outputs": [],
   "source": [
    "# using BeautifulSoup to get data into a usable format for python\n",
    "soup = BeautifulSoup(capitals_data, 'html.parser')"
   ]
  },
  {
   "cell_type": "code",
   "execution_count": 13,
   "metadata": {},
   "outputs": [],
   "source": [
    "capital_countries = []\n",
    "full_data = []\n",
    "rows = soup.find_all('tr') # finding all the places that have country data\n",
    "\n",
    "# separate data by country and append to capital_countries\n",
    "for row in rows:\n",
    "    capital_countries.append(row.get_text())\n",
    "\n",
    "# separate countries into their data\n",
    "for row in capital_countries:\n",
    "    nrows = row.splitlines()\n",
    "    full_data.append(nrows[1:5])\n"
   ]
  },
  {
   "cell_type": "code",
   "execution_count": 14,
   "metadata": {},
   "outputs": [],
   "source": [
    "capital_list = []\n",
    "header = full_data[0] # header for the capitals\n",
    "dt = full_data[1:] # data for capitals\n",
    "countries_list = list(countries['country']) # list of countries\n",
    "keys = header\n",
    "\n",
    "# creating dict of capitals data to easier access individual categories for countries\n",
    "for i in range(len(dt)): \n",
    "    capital_data = {}\n",
    "    vals = dt[i]\n",
    "    for i in range(len(keys)):\n",
    "        capital_data[keys[i]] = vals[i]\n",
    "    capital_list.append(capital_data)\n",
    "    \n",
    "capitals = []\n",
    "# finding the countries in the capitals data that are also in the countries data\n",
    "for c in capital_list:\n",
    "    if c['Country Name'] in countries_list:\n",
    "        capitals.append(c)\n"
   ]
  },
  {
   "cell_type": "code",
   "execution_count": 15,
   "metadata": {},
   "outputs": [],
   "source": [
    "# writing capitals data to json file\n",
    "with open('capitals.json', 'w') as f:\n",
    "    json.dump(capitals, f)"
   ]
  },
  {
   "cell_type": "code",
   "execution_count": 16,
   "metadata": {},
   "outputs": [],
   "source": [
    "# converting capitals json to pandas database\n",
    "capitals = pd.read_json('capitals.json')"
   ]
  },
  {
   "cell_type": "code",
   "execution_count": 17,
   "metadata": {
    "scrolled": true
   },
   "outputs": [
    {
     "data": {
      "text/html": [
       "<div>\n",
       "<style scoped>\n",
       "    .dataframe tbody tr th:only-of-type {\n",
       "        vertical-align: middle;\n",
       "    }\n",
       "\n",
       "    .dataframe tbody tr th {\n",
       "        vertical-align: top;\n",
       "    }\n",
       "\n",
       "    .dataframe thead th {\n",
       "        text-align: right;\n",
       "    }\n",
       "</style>\n",
       "<table border=\"1\" class=\"dataframe\">\n",
       "  <thead>\n",
       "    <tr style=\"text-align: right;\">\n",
       "      <th></th>\n",
       "      <th>Country Name</th>\n",
       "      <th>Capital Name</th>\n",
       "      <th>Capital Latitude</th>\n",
       "      <th>Capital Longitude</th>\n",
       "    </tr>\n",
       "  </thead>\n",
       "  <tbody>\n",
       "    <tr>\n",
       "      <td>0</td>\n",
       "      <td>Afghanistan</td>\n",
       "      <td>Kabul</td>\n",
       "      <td>34.516667</td>\n",
       "      <td>69.183333</td>\n",
       "    </tr>\n",
       "    <tr>\n",
       "      <td>1</td>\n",
       "      <td>Albania</td>\n",
       "      <td>Tirana</td>\n",
       "      <td>41.316667</td>\n",
       "      <td>19.816667</td>\n",
       "    </tr>\n",
       "    <tr>\n",
       "      <td>2</td>\n",
       "      <td>Algeria</td>\n",
       "      <td>Algiers</td>\n",
       "      <td>36.750000</td>\n",
       "      <td>3.050000</td>\n",
       "    </tr>\n",
       "    <tr>\n",
       "      <td>3</td>\n",
       "      <td>Anguilla</td>\n",
       "      <td>The Valley</td>\n",
       "      <td>18.216667</td>\n",
       "      <td>-63.050000</td>\n",
       "    </tr>\n",
       "    <tr>\n",
       "      <td>4</td>\n",
       "      <td>Argentina</td>\n",
       "      <td>Buenos Aires</td>\n",
       "      <td>-34.583333</td>\n",
       "      <td>-58.666667</td>\n",
       "    </tr>\n",
       "  </tbody>\n",
       "</table>\n",
       "</div>"
      ],
      "text/plain": [
       "  Country Name  Capital Name  Capital Latitude  Capital Longitude\n",
       "0  Afghanistan         Kabul         34.516667          69.183333\n",
       "1      Albania        Tirana         41.316667          19.816667\n",
       "2      Algeria       Algiers         36.750000           3.050000\n",
       "3     Anguilla    The Valley         18.216667         -63.050000\n",
       "4    Argentina  Buenos Aires        -34.583333         -58.666667"
      ]
     },
     "execution_count": 17,
     "metadata": {},
     "output_type": "execute_result"
    }
   ],
   "source": [
    "# first five countries in capitals database\n",
    "capitals.head()"
   ]
  },
  {
   "cell_type": "code",
   "execution_count": 18,
   "metadata": {},
   "outputs": [
    {
     "data": {
      "text/plain": [
       "['Afghanistan',\n",
       " 'Albania',\n",
       " 'Algeria',\n",
       " 'Anguilla',\n",
       " 'Argentina',\n",
       " 'Armenia',\n",
       " 'Aruba',\n",
       " 'Australia',\n",
       " 'Austria',\n",
       " 'Azerbaijan',\n",
       " 'Bahrain',\n",
       " 'Bangladesh',\n",
       " 'Barbados',\n",
       " 'Belarus',\n",
       " 'Belgium',\n",
       " 'Belize',\n",
       " 'Benin',\n",
       " 'Bermuda',\n",
       " 'Bhutan',\n",
       " 'Bolivia',\n",
       " 'Botswana',\n",
       " 'Brazil',\n",
       " 'Bulgaria',\n",
       " 'Burkina Faso',\n",
       " 'Burundi',\n",
       " 'Cambodia',\n",
       " 'Cameroon',\n",
       " 'Canada',\n",
       " 'Cape Verde',\n",
       " 'Cayman Islands',\n",
       " 'Chad',\n",
       " 'Chile',\n",
       " 'China',\n",
       " 'Colombia',\n",
       " 'Comoros',\n",
       " 'Costa Rica',\n",
       " 'Croatia',\n",
       " 'Cuba',\n",
       " 'Czech Republic',\n",
       " 'Denmark',\n",
       " 'Djibouti',\n",
       " 'Dominica',\n",
       " 'Dominican Republic',\n",
       " 'Ecuador',\n",
       " 'Egypt',\n",
       " 'El Salvador',\n",
       " 'Equatorial Guinea',\n",
       " 'Eritrea',\n",
       " 'Estonia',\n",
       " 'Ethiopia',\n",
       " 'Fiji',\n",
       " 'Finland',\n",
       " 'France',\n",
       " 'French Polynesia',\n",
       " 'Gabon',\n",
       " 'Georgia',\n",
       " 'Germany',\n",
       " 'Ghana',\n",
       " 'Greece',\n",
       " 'Grenada',\n",
       " 'Guam',\n",
       " 'Guatemala',\n",
       " 'Guinea',\n",
       " 'Guinea-Bissau',\n",
       " 'Guyana',\n",
       " 'Haiti',\n",
       " 'Honduras',\n",
       " 'Hungary',\n",
       " 'Iceland',\n",
       " 'India',\n",
       " 'Indonesia',\n",
       " 'Iran',\n",
       " 'Iraq',\n",
       " 'Ireland',\n",
       " 'Israel',\n",
       " 'Italy',\n",
       " 'Jamaica',\n",
       " 'Japan',\n",
       " 'Jordan',\n",
       " 'Kazakhstan',\n",
       " 'Kenya',\n",
       " 'Kuwait',\n",
       " 'Kyrgyzstan',\n",
       " 'Laos',\n",
       " 'Latvia',\n",
       " 'Lebanon',\n",
       " 'Lesotho',\n",
       " 'Liberia',\n",
       " 'Libya',\n",
       " 'Liechtenstein',\n",
       " 'Lithuania',\n",
       " 'Luxembourg',\n",
       " 'Madagascar',\n",
       " 'Malawi',\n",
       " 'Malaysia',\n",
       " 'Maldives',\n",
       " 'Mali',\n",
       " 'Malta',\n",
       " 'Marshall Islands',\n",
       " 'Mauritania',\n",
       " 'Mauritius',\n",
       " 'Mexico',\n",
       " 'Moldova',\n",
       " 'Monaco',\n",
       " 'Mongolia',\n",
       " 'Morocco',\n",
       " 'Mozambique',\n",
       " 'Namibia',\n",
       " 'Nepal',\n",
       " 'Netherlands',\n",
       " 'New Caledonia',\n",
       " 'New Zealand',\n",
       " 'Nicaragua',\n",
       " 'Niger',\n",
       " 'Nigeria',\n",
       " 'Norway',\n",
       " 'Oman',\n",
       " 'Pakistan',\n",
       " 'Palau',\n",
       " 'Panama',\n",
       " 'Papua New Guinea',\n",
       " 'Paraguay',\n",
       " 'Peru',\n",
       " 'Philippines',\n",
       " 'Poland',\n",
       " 'Portugal',\n",
       " 'Puerto Rico',\n",
       " 'Qatar',\n",
       " 'Romania',\n",
       " 'Russia',\n",
       " 'Rwanda',\n",
       " 'Saint Helena',\n",
       " 'Saint Lucia',\n",
       " 'Saint Vincent and the Grenadines',\n",
       " 'Samoa',\n",
       " 'San Marino',\n",
       " 'Saudi Arabia',\n",
       " 'Senegal',\n",
       " 'Seychelles',\n",
       " 'Sierra Leone',\n",
       " 'Singapore',\n",
       " 'Slovenia',\n",
       " 'Somalia',\n",
       " 'South Africa',\n",
       " 'Spain',\n",
       " 'Sri Lanka',\n",
       " 'Sudan',\n",
       " 'Suriname',\n",
       " 'Swaziland',\n",
       " 'Sweden',\n",
       " 'Switzerland',\n",
       " 'Syria',\n",
       " 'Taiwan',\n",
       " 'Tajikistan',\n",
       " 'Tanzania',\n",
       " 'Thailand',\n",
       " 'Togo',\n",
       " 'Tonga',\n",
       " 'Tunisia',\n",
       " 'Turkey',\n",
       " 'Turkmenistan',\n",
       " 'Uganda',\n",
       " 'Ukraine',\n",
       " 'United Arab Emirates',\n",
       " 'United Kingdom',\n",
       " 'United States',\n",
       " 'Uruguay',\n",
       " 'Uzbekistan',\n",
       " 'Vanuatu',\n",
       " 'Venezuela',\n",
       " 'Vietnam',\n",
       " 'Yemen',\n",
       " 'Zambia',\n",
       " 'Zimbabwe']"
      ]
     },
     "execution_count": 18,
     "metadata": {},
     "output_type": "execute_result"
    }
   ],
   "source": [
    "# list of countries in capitals database\n",
    "countries_in_capitals = []\n",
    "for c in capitals['Country Name']:\n",
    "    countries_in_capitals.append(c)\n",
    "countries_in_capitals"
   ]
  },
  {
   "cell_type": "code",
   "execution_count": 19,
   "metadata": {},
   "outputs": [
    {
     "data": {
      "text/plain": [
       "'Havana'"
      ]
     },
     "execution_count": 19,
     "metadata": {},
     "output_type": "execute_result"
    }
   ],
   "source": [
    "# finding the capital of Cuba\n",
    "cuba_series = capitals[capitals['Country Name'] == 'Cuba']\n",
    "next(iter(cuba_series['Capital Name']))"
   ]
  },
  {
   "cell_type": "code",
   "execution_count": 20,
   "metadata": {},
   "outputs": [
    {
     "data": {
      "text/plain": [
       "'Georgia'"
      ]
     },
     "execution_count": 20,
     "metadata": {},
     "output_type": "execute_result"
    }
   ],
   "source": [
    "# finding the country with the capital Tbilisi\n",
    "t_series = capitals[capitals['Capital Name'] == 'Tbilisi']\n",
    "next(iter(t_series['Country Name']))"
   ]
  },
  {
   "cell_type": "code",
   "execution_count": 21,
   "metadata": {},
   "outputs": [
    {
     "data": {
      "text/plain": [
       "['New Zealand',\n",
       " 'Australia',\n",
       " 'Uruguay',\n",
       " 'Argentina',\n",
       " 'Chile',\n",
       " 'Lesotho',\n",
       " 'Swaziland']"
      ]
     },
     "execution_count": 21,
     "metadata": {},
     "output_type": "execute_result"
    }
   ],
   "source": [
    "# countries with the southern most capitals\n",
    "southern_capitals = []\n",
    "southern_most = capitals.sort_values(by='Capital Latitude')[0:7]\n",
    "for c in southern_most['Country Name']:\n",
    "    southern_capitals.append(c)\n",
    "southern_capitals"
   ]
  },
  {
   "cell_type": "code",
   "execution_count": 22,
   "metadata": {},
   "outputs": [
    {
     "data": {
      "text/plain": [
       "['Iceland', 'Finland', 'Norway', 'Estonia', 'Sweden']"
      ]
     },
     "execution_count": 22,
     "metadata": {},
     "output_type": "execute_result"
    }
   ],
   "source": [
    "# countries with the northern most capitals\n",
    "northern_capitals = []\n",
    "northern_most = capitals.sort_values(by='Capital Latitude', ascending = False)[0:5]\n",
    "for c in northern_most['Country Name']:\n",
    "    northern_capitals.append(c)\n",
    "northern_capitals"
   ]
  },
  {
   "cell_type": "code",
   "execution_count": 23,
   "metadata": {},
   "outputs": [
    {
     "data": {
      "text/html": [
       "<div>\n",
       "<style scoped>\n",
       "    .dataframe tbody tr th:only-of-type {\n",
       "        vertical-align: middle;\n",
       "    }\n",
       "\n",
       "    .dataframe tbody tr th {\n",
       "        vertical-align: top;\n",
       "    }\n",
       "\n",
       "    .dataframe thead th {\n",
       "        text-align: right;\n",
       "    }\n",
       "</style>\n",
       "<table border=\"1\" class=\"dataframe\">\n",
       "  <thead>\n",
       "    <tr style=\"text-align: right;\">\n",
       "      <th></th>\n",
       "      <th>birth-rate</th>\n",
       "      <th>death-rate</th>\n",
       "    </tr>\n",
       "  </thead>\n",
       "  <tbody>\n",
       "    <tr>\n",
       "      <td>count</td>\n",
       "      <td>174.000000</td>\n",
       "      <td>174.000000</td>\n",
       "    </tr>\n",
       "    <tr>\n",
       "      <td>mean</td>\n",
       "      <td>22.463851</td>\n",
       "      <td>9.625172</td>\n",
       "    </tr>\n",
       "    <tr>\n",
       "      <td>std</td>\n",
       "      <td>11.278992</td>\n",
       "      <td>5.187143</td>\n",
       "    </tr>\n",
       "    <tr>\n",
       "      <td>min</td>\n",
       "      <td>8.250000</td>\n",
       "      <td>2.410000</td>\n",
       "    </tr>\n",
       "    <tr>\n",
       "      <td>25%</td>\n",
       "      <td>12.597500</td>\n",
       "      <td>6.027500</td>\n",
       "    </tr>\n",
       "    <tr>\n",
       "      <td>50%</td>\n",
       "      <td>20.010000</td>\n",
       "      <td>8.230000</td>\n",
       "    </tr>\n",
       "    <tr>\n",
       "      <td>75%</td>\n",
       "      <td>29.860000</td>\n",
       "      <td>11.715000</td>\n",
       "    </tr>\n",
       "    <tr>\n",
       "      <td>max</td>\n",
       "      <td>50.730000</td>\n",
       "      <td>29.740000</td>\n",
       "    </tr>\n",
       "  </tbody>\n",
       "</table>\n",
       "</div>"
      ],
      "text/plain": [
       "       birth-rate  death-rate\n",
       "count  174.000000  174.000000\n",
       "mean    22.463851    9.625172\n",
       "std     11.278992    5.187143\n",
       "min      8.250000    2.410000\n",
       "25%     12.597500    6.027500\n",
       "50%     20.010000    8.230000\n",
       "75%     29.860000   11.715000\n",
       "max     50.730000   29.740000"
      ]
     },
     "execution_count": 23,
     "metadata": {},
     "output_type": "execute_result"
    }
   ],
   "source": [
    "# birth and death rate statistics for countries database\n",
    "countries[['birth-rate', 'death-rate']].describe()"
   ]
  },
  {
   "cell_type": "code",
   "execution_count": 24,
   "metadata": {},
   "outputs": [
    {
     "data": {
      "text/html": [
       "<div>\n",
       "<style scoped>\n",
       "    .dataframe tbody tr th:only-of-type {\n",
       "        vertical-align: middle;\n",
       "    }\n",
       "\n",
       "    .dataframe tbody tr th {\n",
       "        vertical-align: top;\n",
       "    }\n",
       "\n",
       "    .dataframe thead th {\n",
       "        text-align: right;\n",
       "    }\n",
       "</style>\n",
       "<table border=\"1\" class=\"dataframe\">\n",
       "  <thead>\n",
       "    <tr style=\"text-align: right;\">\n",
       "      <th></th>\n",
       "      <th>literacy</th>\n",
       "      <th>phones</th>\n",
       "    </tr>\n",
       "  </thead>\n",
       "  <tbody>\n",
       "    <tr>\n",
       "      <td>count</td>\n",
       "      <td>174.000000</td>\n",
       "      <td>174.000000</td>\n",
       "    </tr>\n",
       "    <tr>\n",
       "      <td>mean</td>\n",
       "      <td>82.362069</td>\n",
       "      <td>215.770690</td>\n",
       "    </tr>\n",
       "    <tr>\n",
       "      <td>std</td>\n",
       "      <td>20.003166</td>\n",
       "      <td>218.713811</td>\n",
       "    </tr>\n",
       "    <tr>\n",
       "      <td>min</td>\n",
       "      <td>17.600000</td>\n",
       "      <td>1.300000</td>\n",
       "    </tr>\n",
       "    <tr>\n",
       "      <td>25%</td>\n",
       "      <td>70.100000</td>\n",
       "      <td>32.000000</td>\n",
       "    </tr>\n",
       "    <tr>\n",
       "      <td>50%</td>\n",
       "      <td>92.100000</td>\n",
       "      <td>140.350000</td>\n",
       "    </tr>\n",
       "    <tr>\n",
       "      <td>75%</td>\n",
       "      <td>98.000000</td>\n",
       "      <td>331.750000</td>\n",
       "    </tr>\n",
       "    <tr>\n",
       "      <td>max</td>\n",
       "      <td>100.000000</td>\n",
       "      <td>1035.600000</td>\n",
       "    </tr>\n",
       "  </tbody>\n",
       "</table>\n",
       "</div>"
      ],
      "text/plain": [
       "         literacy       phones\n",
       "count  174.000000   174.000000\n",
       "mean    82.362069   215.770690\n",
       "std     20.003166   218.713811\n",
       "min     17.600000     1.300000\n",
       "25%     70.100000    32.000000\n",
       "50%     92.100000   140.350000\n",
       "75%     98.000000   331.750000\n",
       "max    100.000000  1035.600000"
      ]
     },
     "execution_count": 24,
     "metadata": {},
     "output_type": "execute_result"
    }
   ],
   "source": [
    "# phone and literacy statistics for countries database\n",
    "# literacy and phone data in countries uses commas for some countries\n",
    "# so I replaced the commas with periods and converted type to float\n",
    "# so pandas could work with the data\n",
    "literacy = countries['literacy'].str.replace(',','.').astype(float) \n",
    "phones = countries['phones'].str.replace(',','.').astype(float)\n",
    "literacy_phones = pd.concat([literacy, phones], axis=1)\n",
    "literacy_phones.describe()"
   ]
  },
  {
   "cell_type": "code",
   "execution_count": 25,
   "metadata": {},
   "outputs": [
    {
     "data": {
      "text/plain": [
       "'Belarus'"
      ]
     },
     "execution_count": 25,
     "metadata": {},
     "output_type": "execute_result"
    }
   ],
   "source": [
    "# largest landlocked country in Europe\n",
    "landlocked = countries[countries['coastline'] == 0]\n",
    "landlocked_europe = landlocked[landlocked['continent'] == 'Europe']\n",
    "big_europe = landlocked_europe[landlocked_europe['area'] == landlocked_europe['area'].max()]\n",
    "next(iter(big_europe['country']))"
   ]
  },
  {
   "cell_type": "code",
   "execution_count": 26,
   "metadata": {},
   "outputs": [
    {
     "data": {
      "text/plain": [
       "'Kazakhstan'"
      ]
     },
     "execution_count": 26,
     "metadata": {},
     "output_type": "execute_result"
    }
   ],
   "source": [
    "# largest landlocked country in Asia\n",
    "landlocked_asia = landlocked[landlocked['continent'] == 'Asia']\n",
    "big_asia = landlocked_asia[landlocked_asia['area'] == landlocked_asia['area'].max()]\n",
    "next(iter(big_asia['country']))"
   ]
  },
  {
   "cell_type": "code",
   "execution_count": 27,
   "metadata": {},
   "outputs": [
    {
     "data": {
      "text/plain": [
       "'Afghanistan'"
      ]
     },
     "execution_count": 27,
     "metadata": {},
     "output_type": "execute_result"
    }
   ],
   "source": [
    "# most populated land locked country in Asia\n",
    "populated_asia = landlocked_asia[landlocked_asia['population'] == landlocked_asia['population'].max()]\n",
    "next(iter(populated_asia['country']))"
   ]
  },
  {
   "cell_type": "code",
   "execution_count": 28,
   "metadata": {},
   "outputs": [],
   "source": [
    "def haversine(lon1, lat1, lon2, lat2):\n",
    "    \"\"\"\n",
    "    Calculate the great circle distance between two points \n",
    "    on the earth (specified in decimal degrees)\n",
    "    \"\"\"\n",
    "    # convert decimal degrees to radians \n",
    "    lon1, lat1, lon2, lat2 = map(radians, [lon1, lat1, lon2, lat2])\n",
    "\n",
    "    # haversine formula \n",
    "    dlon = lon2 - lon1 \n",
    "    dlat = lat2 - lat1 \n",
    "    a = sin(dlat/2)**2 + cos(lat1) * cos(lat2) * sin(dlon/2)**2\n",
    "    c = 2 * asin(sqrt(a)) \n",
    "    r = 3956 \n",
    "    return c * r"
   ]
  },
  {
   "cell_type": "code",
   "execution_count": 29,
   "metadata": {},
   "outputs": [],
   "source": [
    "# getting latitude and longitude for Japan\n",
    "japan_series = capitals[capitals['Country Name'] == 'Japan']\n",
    "japan_lat = next(iter(japan_series['Capital Latitude']))\n",
    "japan_lon = next(iter(japan_series['Capital Longitude']))"
   ]
  },
  {
   "cell_type": "code",
   "execution_count": 30,
   "metadata": {},
   "outputs": [],
   "source": [
    "# getting latitude and longitude for France\n",
    "france_series = capitals[capitals['Country Name'] == 'France']\n",
    "france_lat = next(iter(france_series['Capital Latitude']))\n",
    "france_lon = next(iter(france_series['Capital Longitude']))"
   ]
  },
  {
   "cell_type": "code",
   "execution_count": 31,
   "metadata": {},
   "outputs": [
    {
     "data": {
      "text/plain": [
       "6032.330932363535"
      ]
     },
     "execution_count": 31,
     "metadata": {},
     "output_type": "execute_result"
    }
   ],
   "source": [
    "# distance from Japan to France\n",
    "haversine(japan_lon, japan_lat, france_lon, france_lat)"
   ]
  },
  {
   "cell_type": "code",
   "execution_count": 32,
   "metadata": {},
   "outputs": [
    {
     "data": {
      "text/plain": [
       "[   Country Name Capital Name  Capital Latitude  Capital Longitude\n",
       " 60         Guam      Hagatna         13.466667         144.733333,\n",
       "     Country Name Capital Name  Capital Latitude  Capital Longitude\n",
       " 111  New Zealand   Wellington             -41.3         174.783333,\n",
       "   Country Name Capital Name  Capital Latitude  Capital Longitude\n",
       " 7    Australia     Canberra        -35.266667         149.133333]"
      ]
     },
     "execution_count": 32,
     "metadata": {},
     "output_type": "execute_result"
    }
   ],
   "source": [
    "gna_list = ['Guam', 'New Zealand', 'Australia']\n",
    "df_list = []\n",
    "dfs_list = []\n",
    "\n",
    "# finding series for all countries in GNA\n",
    "for c in gna_list:\n",
    "    df_list.append(capitals[capitals['Country Name'] == c])\n",
    "\n",
    "# filtering series in GNA for country, capital, lat and long\n",
    "for c in df_list:\n",
    "    gna_dict = {}\n",
    "    lat = next(iter(c['Capital Latitude']))\n",
    "    lon = next(iter(c['Capital Longitude']))\n",
    "    name = next(iter(c['Country Name']))\n",
    "    gna_dict['Country Name'] = name\n",
    "    gna_dict['Longitude'] = lon\n",
    "    gna_dict['Latitude'] = lat\n",
    "    dfs_list.append(gna_dict)\n",
    "df_list"
   ]
  },
  {
   "cell_type": "code",
   "execution_count": 33,
   "metadata": {},
   "outputs": [
    {
     "data": {
      "text/plain": [
       "{'Guam': [None, 4239.314912320819, 3377.103869542239],\n",
       " 'New Zealand': [4239.314912320819, None, 1445.1478946965344],\n",
       " 'Australia': [3377.103869542239, 1445.1478946965344, None]}"
      ]
     },
     "execution_count": 33,
     "metadata": {},
     "output_type": "execute_result"
    }
   ],
   "source": [
    "gna_df = DataFrame(dfs_list) # converting dfs_list to Dataframe\n",
    "gna_dist = {}\n",
    "\n",
    "# dict with a distance from a country to each other country\n",
    "for country in gna_df['Country Name']:\n",
    "    gna_dist[country] = [] # initializing each country with a list of distances\n",
    "    country_series = gna_df[gna_df['Country Name'] == country]\n",
    "    country_lat = next(iter(country_series['Latitude']))\n",
    "    country_lon = next(iter(country_series['Longitude']))\n",
    "    for c in gna_df['Country Name']: # if country is the same then set distance to None\n",
    "        if c == country:\n",
    "            gna_dist[country].append(None)\n",
    "        else:\n",
    "            c_series = gna_df[gna_df['Country Name'] == c]\n",
    "            c_lat = next(iter(c_series['Latitude']))\n",
    "            c_lon = next(iter(c_series['Longitude']))\n",
    "            gna_dist[country].append(haversine(country_lon, country_lat, c_lon, c_lat))\n",
    "gna_dist"
   ]
  },
  {
   "cell_type": "code",
   "execution_count": 34,
   "metadata": {},
   "outputs": [
    {
     "data": {
      "text/html": [
       "<div>\n",
       "<style scoped>\n",
       "    .dataframe tbody tr th:only-of-type {\n",
       "        vertical-align: middle;\n",
       "    }\n",
       "\n",
       "    .dataframe tbody tr th {\n",
       "        vertical-align: top;\n",
       "    }\n",
       "\n",
       "    .dataframe thead th {\n",
       "        text-align: right;\n",
       "    }\n",
       "</style>\n",
       "<table border=\"1\" class=\"dataframe\">\n",
       "  <thead>\n",
       "    <tr style=\"text-align: right;\">\n",
       "      <th></th>\n",
       "      <th>Guam</th>\n",
       "      <th>New Zealand</th>\n",
       "      <th>Australia</th>\n",
       "    </tr>\n",
       "  </thead>\n",
       "  <tbody>\n",
       "    <tr>\n",
       "      <td>Guam</td>\n",
       "      <td>NaN</td>\n",
       "      <td>4239.314912</td>\n",
       "      <td>3377.103870</td>\n",
       "    </tr>\n",
       "    <tr>\n",
       "      <td>New Zealand</td>\n",
       "      <td>4239.314912</td>\n",
       "      <td>NaN</td>\n",
       "      <td>1445.147895</td>\n",
       "    </tr>\n",
       "    <tr>\n",
       "      <td>Australia</td>\n",
       "      <td>3377.103870</td>\n",
       "      <td>1445.147895</td>\n",
       "      <td>NaN</td>\n",
       "    </tr>\n",
       "  </tbody>\n",
       "</table>\n",
       "</div>"
      ],
      "text/plain": [
       "                    Guam  New Zealand    Australia\n",
       "Guam                 NaN  4239.314912  3377.103870\n",
       "New Zealand  4239.314912          NaN  1445.147895\n",
       "Australia    3377.103870  1445.147895          NaN"
      ]
     },
     "execution_count": 34,
     "metadata": {},
     "output_type": "execute_result"
    }
   ],
   "source": [
    "# distances between Guam, New Zealand, and Australia\n",
    "DataFrame.from_dict(gna_dist, orient = 'index', columns = gna_list)"
   ]
  },
  {
   "cell_type": "code",
   "execution_count": 35,
   "metadata": {},
   "outputs": [
    {
     "data": {
      "text/plain": [
       "[        Country Name Capital Name  Capital Latitude  Capital Longitude\n",
       " 98  Marshall Islands       Majuro               7.1         171.383333,\n",
       "         Country Name Capital Name  Capital Latitude  Capital Longitude\n",
       " 53  French Polynesia      Papeete        -17.533333        -149.566667,\n",
       "     Country Name Capital Name  Capital Latitude  Capital Longitude\n",
       " 111  New Zealand   Wellington             -41.3         174.783333,\n",
       "     Country Name Capital Name  Capital Latitude  Capital Longitude\n",
       " 168      Vanuatu    Port-Vila        -17.733333         168.316667,\n",
       "     Country Name Capital Name  Capital Latitude  Capital Longitude\n",
       " 118        Palau     Melekeok          7.483333         134.633333,\n",
       "          Country Name  Capital Name  Capital Latitude  Capital Longitude\n",
       " 120  Papua New Guinea  Port Moresby             -9.45         147.183333,\n",
       "    Country Name Capital Name  Capital Latitude  Capital Longitude\n",
       " 60         Guam      Hagatna         13.466667         144.733333,\n",
       "     Country Name Capital Name  Capital Latitude  Capital Longitude\n",
       " 134        Samoa         Apia        -13.816667        -171.766667,\n",
       "       Country Name Capital Name  Capital Latitude  Capital Longitude\n",
       " 110  New Caledonia       Noumea        -22.266667             166.45,\n",
       "   Country Name Capital Name  Capital Latitude  Capital Longitude\n",
       " 7    Australia     Canberra        -35.266667         149.133333,\n",
       "    Country Name Capital Name  Capital Latitude  Capital Longitude\n",
       " 50         Fiji         Suva        -18.133333         178.416667,\n",
       "     Country Name Capital Name  Capital Latitude  Capital Longitude\n",
       " 157        Tonga   Nuku’alofa        -21.133333             -175.2]"
      ]
     },
     "execution_count": 35,
     "metadata": {},
     "output_type": "execute_result"
    }
   ],
   "source": [
    "ocea_list = []\n",
    "aust_series = countries[countries['continent'] == 'Australia']\n",
    "for c in aust_series['country']:\n",
    "    ocea_list.append(c)\n",
    "    \n",
    "df_list = []\n",
    "dfs_list = []\n",
    "\n",
    "for c in ocea_list:\n",
    "    df_list.append(capitals[capitals['Country Name'] == c])\n",
    "for c in df_list:\n",
    "    ocea_dict = {}\n",
    "    lat = next(iter(c['Capital Latitude']))\n",
    "    lon = next(iter(c['Capital Longitude']))\n",
    "    name = next(iter(c['Country Name']))\n",
    "    ocea_dict['Country Name'] = name\n",
    "    ocea_dict['Longitude'] = lon\n",
    "    ocea_dict['Latitude'] = lat\n",
    "    dfs_list.append(ocea_dict)\n",
    "df_list"
   ]
  },
  {
   "cell_type": "code",
   "execution_count": 36,
   "metadata": {},
   "outputs": [],
   "source": [
    "ocea_df = DataFrame(dfs_list)\n",
    "ocea_dist = {}\n",
    "for country in ocea_df['Country Name']:\n",
    "    ocea_dist[country] = []\n",
    "    country_series = ocea_df[ocea_df['Country Name'] == country]\n",
    "    country_lat = next(iter(country_series['Latitude']))\n",
    "    country_lon = next(iter(country_series['Longitude']))\n",
    "    for c in ocea_df['Country Name']:\n",
    "        if c == country:\n",
    "            ocea_dist[country].append(None)\n",
    "        else:\n",
    "            c_series = ocea_df[ocea_df['Country Name'] == c]\n",
    "            c_lat = next(iter(c_series['Latitude']))\n",
    "            c_lon = next(iter(c_series['Longitude']))\n",
    "            ocea_dist[country].append(haversine(country_lon, country_lat, c_lon, c_lat))\n"
   ]
  },
  {
   "cell_type": "code",
   "execution_count": 37,
   "metadata": {
    "scrolled": false
   },
   "outputs": [
    {
     "data": {
      "text/html": [
       "<div>\n",
       "<style scoped>\n",
       "    .dataframe tbody tr th:only-of-type {\n",
       "        vertical-align: middle;\n",
       "    }\n",
       "\n",
       "    .dataframe tbody tr th {\n",
       "        vertical-align: top;\n",
       "    }\n",
       "\n",
       "    .dataframe thead th {\n",
       "        text-align: right;\n",
       "    }\n",
       "</style>\n",
       "<table border=\"1\" class=\"dataframe\">\n",
       "  <thead>\n",
       "    <tr style=\"text-align: right;\">\n",
       "      <th></th>\n",
       "      <th>Marshall Islands</th>\n",
       "      <th>French Polynesia</th>\n",
       "      <th>New Zealand</th>\n",
       "      <th>Vanuatu</th>\n",
       "      <th>Palau</th>\n",
       "      <th>Papua New Guinea</th>\n",
       "      <th>Guam</th>\n",
       "      <th>Samoa</th>\n",
       "      <th>New Caledonia</th>\n",
       "      <th>Australia</th>\n",
       "      <th>Fiji</th>\n",
       "      <th>Tonga</th>\n",
       "    </tr>\n",
       "  </thead>\n",
       "  <tbody>\n",
       "    <tr>\n",
       "      <td>Marshall Islands</td>\n",
       "      <td>NaN</td>\n",
       "      <td>3159.856137</td>\n",
       "      <td>3348.725378</td>\n",
       "      <td>1727.328621</td>\n",
       "      <td>2516.301728</td>\n",
       "      <td>2019.144119</td>\n",
       "      <td>1861.584428</td>\n",
       "      <td>1849.150692</td>\n",
       "      <td>2054.905160</td>\n",
       "      <td>3263.901948</td>\n",
       "      <td>1806.972599</td>\n",
       "      <td>2151.129410</td>\n",
       "    </tr>\n",
       "    <tr>\n",
       "      <td>French Polynesia</td>\n",
       "      <td>3159.856137</td>\n",
       "      <td>NaN</td>\n",
       "      <td>2668.807328</td>\n",
       "      <td>2765.339382</td>\n",
       "      <td>5447.018761</td>\n",
       "      <td>4265.757856</td>\n",
       "      <td>4961.131713</td>\n",
       "      <td>1496.953816</td>\n",
       "      <td>2864.497308</td>\n",
       "      <td>3920.570216</td>\n",
       "      <td>2102.135722</td>\n",
       "      <td>1686.539411</td>\n",
       "    </tr>\n",
       "    <tr>\n",
       "      <td>New Zealand</td>\n",
       "      <td>3348.725378</td>\n",
       "      <td>2668.807328</td>\n",
       "      <td>NaN</td>\n",
       "      <td>1671.641167</td>\n",
       "      <td>4218.188412</td>\n",
       "      <td>2767.607095</td>\n",
       "      <td>4239.314912</td>\n",
       "      <td>2062.548020</td>\n",
       "      <td>1400.483623</td>\n",
       "      <td>1445.147895</td>\n",
       "      <td>1613.916992</td>\n",
       "      <td>1510.219450</td>\n",
       "    </tr>\n",
       "    <tr>\n",
       "      <td>Vanuatu</td>\n",
       "      <td>1727.328621</td>\n",
       "      <td>2765.339382</td>\n",
       "      <td>1671.641167</td>\n",
       "      <td>NaN</td>\n",
       "      <td>2882.041892</td>\n",
       "      <td>1527.495923</td>\n",
       "      <td>2687.395771</td>\n",
       "      <td>1349.904435</td>\n",
       "      <td>335.602971</td>\n",
       "      <td>1687.810709</td>\n",
       "      <td>663.967196</td>\n",
       "      <td>1098.016273</td>\n",
       "    </tr>\n",
       "    <tr>\n",
       "      <td>Palau</td>\n",
       "      <td>2516.301728</td>\n",
       "      <td>5447.018761</td>\n",
       "      <td>4218.188412</td>\n",
       "      <td>2882.041892</td>\n",
       "      <td>NaN</td>\n",
       "      <td>1453.306058</td>\n",
       "      <td>800.243081</td>\n",
       "      <td>3956.305436</td>\n",
       "      <td>2974.892838</td>\n",
       "      <td>3099.023227</td>\n",
       "      <td>3468.037102</td>\n",
       "      <td>3931.843110</td>\n",
       "    </tr>\n",
       "    <tr>\n",
       "      <td>Papua New Guinea</td>\n",
       "      <td>2019.144119</td>\n",
       "      <td>4265.757856</td>\n",
       "      <td>2767.607095</td>\n",
       "      <td>1527.495923</td>\n",
       "      <td>1453.306058</td>\n",
       "      <td>NaN</td>\n",
       "      <td>1591.171595</td>\n",
       "      <td>2789.123270</td>\n",
       "      <td>1552.708901</td>\n",
       "      <td>1786.749660</td>\n",
       "      <td>2174.712829</td>\n",
       "      <td>2623.742354</td>\n",
       "    </tr>\n",
       "    <tr>\n",
       "      <td>Guam</td>\n",
       "      <td>1861.584428</td>\n",
       "      <td>4961.131713</td>\n",
       "      <td>4239.314912</td>\n",
       "      <td>2687.395771</td>\n",
       "      <td>800.243081</td>\n",
       "      <td>1591.171595</td>\n",
       "      <td>NaN</td>\n",
       "      <td>3520.883355</td>\n",
       "      <td>2871.868601</td>\n",
       "      <td>3377.103870</td>\n",
       "      <td>3165.570014</td>\n",
       "      <td>3617.512808</td>\n",
       "    </tr>\n",
       "    <tr>\n",
       "      <td>Samoa</td>\n",
       "      <td>1849.150692</td>\n",
       "      <td>1496.953816</td>\n",
       "      <td>2062.548020</td>\n",
       "      <td>1349.904435</td>\n",
       "      <td>3956.305436</td>\n",
       "      <td>2789.123270</td>\n",
       "      <td>3520.883355</td>\n",
       "      <td>NaN</td>\n",
       "      <td>1542.152644</td>\n",
       "      <td>2840.091065</td>\n",
       "      <td>716.316054</td>\n",
       "      <td>553.393188</td>\n",
       "    </tr>\n",
       "    <tr>\n",
       "      <td>New Caledonia</td>\n",
       "      <td>2054.905160</td>\n",
       "      <td>2864.497308</td>\n",
       "      <td>1400.483623</td>\n",
       "      <td>335.602971</td>\n",
       "      <td>2974.892838</td>\n",
       "      <td>1552.708901</td>\n",
       "      <td>2871.868601</td>\n",
       "      <td>1542.152644</td>\n",
       "      <td>NaN</td>\n",
       "      <td>1375.924712</td>\n",
       "      <td>825.890876</td>\n",
       "      <td>1179.069567</td>\n",
       "    </tr>\n",
       "    <tr>\n",
       "      <td>Australia</td>\n",
       "      <td>3263.901948</td>\n",
       "      <td>3920.570216</td>\n",
       "      <td>1445.147895</td>\n",
       "      <td>1687.810709</td>\n",
       "      <td>3099.023227</td>\n",
       "      <td>1786.749660</td>\n",
       "      <td>3377.103870</td>\n",
       "      <td>2840.091065</td>\n",
       "      <td>1375.924712</td>\n",
       "      <td>NaN</td>\n",
       "      <td>2145.768971</td>\n",
       "      <td>2362.766922</td>\n",
       "    </tr>\n",
       "    <tr>\n",
       "      <td>Fiji</td>\n",
       "      <td>1806.972599</td>\n",
       "      <td>2102.135722</td>\n",
       "      <td>1613.916992</td>\n",
       "      <td>663.967196</td>\n",
       "      <td>3468.037102</td>\n",
       "      <td>2174.712829</td>\n",
       "      <td>3165.570014</td>\n",
       "      <td>716.316054</td>\n",
       "      <td>825.890876</td>\n",
       "      <td>2145.768971</td>\n",
       "      <td>NaN</td>\n",
       "      <td>463.843872</td>\n",
       "    </tr>\n",
       "    <tr>\n",
       "      <td>Tonga</td>\n",
       "      <td>2151.129410</td>\n",
       "      <td>1686.539411</td>\n",
       "      <td>1510.219450</td>\n",
       "      <td>1098.016273</td>\n",
       "      <td>3931.843110</td>\n",
       "      <td>2623.742354</td>\n",
       "      <td>3617.512808</td>\n",
       "      <td>553.393188</td>\n",
       "      <td>1179.069567</td>\n",
       "      <td>2362.766922</td>\n",
       "      <td>463.843872</td>\n",
       "      <td>NaN</td>\n",
       "    </tr>\n",
       "  </tbody>\n",
       "</table>\n",
       "</div>"
      ],
      "text/plain": [
       "                  Marshall Islands  French Polynesia  New Zealand  \\\n",
       "Marshall Islands               NaN       3159.856137  3348.725378   \n",
       "French Polynesia       3159.856137               NaN  2668.807328   \n",
       "New Zealand            3348.725378       2668.807328          NaN   \n",
       "Vanuatu                1727.328621       2765.339382  1671.641167   \n",
       "Palau                  2516.301728       5447.018761  4218.188412   \n",
       "Papua New Guinea       2019.144119       4265.757856  2767.607095   \n",
       "Guam                   1861.584428       4961.131713  4239.314912   \n",
       "Samoa                  1849.150692       1496.953816  2062.548020   \n",
       "New Caledonia          2054.905160       2864.497308  1400.483623   \n",
       "Australia              3263.901948       3920.570216  1445.147895   \n",
       "Fiji                   1806.972599       2102.135722  1613.916992   \n",
       "Tonga                  2151.129410       1686.539411  1510.219450   \n",
       "\n",
       "                      Vanuatu        Palau  Papua New Guinea         Guam  \\\n",
       "Marshall Islands  1727.328621  2516.301728       2019.144119  1861.584428   \n",
       "French Polynesia  2765.339382  5447.018761       4265.757856  4961.131713   \n",
       "New Zealand       1671.641167  4218.188412       2767.607095  4239.314912   \n",
       "Vanuatu                   NaN  2882.041892       1527.495923  2687.395771   \n",
       "Palau             2882.041892          NaN       1453.306058   800.243081   \n",
       "Papua New Guinea  1527.495923  1453.306058               NaN  1591.171595   \n",
       "Guam              2687.395771   800.243081       1591.171595          NaN   \n",
       "Samoa             1349.904435  3956.305436       2789.123270  3520.883355   \n",
       "New Caledonia      335.602971  2974.892838       1552.708901  2871.868601   \n",
       "Australia         1687.810709  3099.023227       1786.749660  3377.103870   \n",
       "Fiji               663.967196  3468.037102       2174.712829  3165.570014   \n",
       "Tonga             1098.016273  3931.843110       2623.742354  3617.512808   \n",
       "\n",
       "                        Samoa  New Caledonia    Australia         Fiji  \\\n",
       "Marshall Islands  1849.150692    2054.905160  3263.901948  1806.972599   \n",
       "French Polynesia  1496.953816    2864.497308  3920.570216  2102.135722   \n",
       "New Zealand       2062.548020    1400.483623  1445.147895  1613.916992   \n",
       "Vanuatu           1349.904435     335.602971  1687.810709   663.967196   \n",
       "Palau             3956.305436    2974.892838  3099.023227  3468.037102   \n",
       "Papua New Guinea  2789.123270    1552.708901  1786.749660  2174.712829   \n",
       "Guam              3520.883355    2871.868601  3377.103870  3165.570014   \n",
       "Samoa                     NaN    1542.152644  2840.091065   716.316054   \n",
       "New Caledonia     1542.152644            NaN  1375.924712   825.890876   \n",
       "Australia         2840.091065    1375.924712          NaN  2145.768971   \n",
       "Fiji               716.316054     825.890876  2145.768971          NaN   \n",
       "Tonga              553.393188    1179.069567  2362.766922   463.843872   \n",
       "\n",
       "                        Tonga  \n",
       "Marshall Islands  2151.129410  \n",
       "French Polynesia  1686.539411  \n",
       "New Zealand       1510.219450  \n",
       "Vanuatu           1098.016273  \n",
       "Palau             3931.843110  \n",
       "Papua New Guinea  2623.742354  \n",
       "Guam              3617.512808  \n",
       "Samoa              553.393188  \n",
       "New Caledonia     1179.069567  \n",
       "Australia         2362.766922  \n",
       "Fiji               463.843872  \n",
       "Tonga                     NaN  "
      ]
     },
     "execution_count": 37,
     "metadata": {},
     "output_type": "execute_result"
    }
   ],
   "source": [
    "# distances between each country in Oceania\n",
    "australia_df = DataFrame.from_dict(ocea_dist, orient = 'index', columns = ocea_list)\n",
    "australia_df"
   ]
  },
  {
   "cell_type": "code",
   "execution_count": 38,
   "metadata": {},
   "outputs": [
    {
     "data": {
      "text/plain": [
       "'Vanuatu'"
      ]
     },
     "execution_count": 38,
     "metadata": {},
     "output_type": "execute_result"
    }
   ],
   "source": [
    "# most central country in Oceania\n",
    "stralia_mean = australia_df.mean()\n",
    "stralia_mean.sort_values().index[0]"
   ]
  },
  {
   "cell_type": "code",
   "execution_count": 39,
   "metadata": {},
   "outputs": [
    {
     "data": {
      "text/plain": [
       "'French Polynesia'"
      ]
     },
     "execution_count": 39,
     "metadata": {},
     "output_type": "execute_result"
    }
   ],
   "source": [
    "# least central country in Oceania\n",
    "stralia_mean.sort_values(ascending = False).index[0]"
   ]
  },
  {
   "cell_type": "code",
   "execution_count": 40,
   "metadata": {},
   "outputs": [
    {
     "data": {
      "text/html": [
       "<div>\n",
       "<style scoped>\n",
       "    .dataframe tbody tr th:only-of-type {\n",
       "        vertical-align: middle;\n",
       "    }\n",
       "\n",
       "    .dataframe tbody tr th {\n",
       "        vertical-align: top;\n",
       "    }\n",
       "\n",
       "    .dataframe thead th {\n",
       "        text-align: right;\n",
       "    }\n",
       "</style>\n",
       "<table border=\"1\" class=\"dataframe\">\n",
       "  <thead>\n",
       "    <tr style=\"text-align: right;\">\n",
       "      <th></th>\n",
       "      <th>nearest</th>\n",
       "      <th>distance</th>\n",
       "    </tr>\n",
       "  </thead>\n",
       "  <tbody>\n",
       "    <tr>\n",
       "      <td>Marshall Islands</td>\n",
       "      <td>Vanuatu</td>\n",
       "      <td>1727.328621</td>\n",
       "    </tr>\n",
       "    <tr>\n",
       "      <td>French Polynesia</td>\n",
       "      <td>Samoa</td>\n",
       "      <td>1496.953816</td>\n",
       "    </tr>\n",
       "    <tr>\n",
       "      <td>New Zealand</td>\n",
       "      <td>New Caledonia</td>\n",
       "      <td>1400.483623</td>\n",
       "    </tr>\n",
       "    <tr>\n",
       "      <td>Vanuatu</td>\n",
       "      <td>New Caledonia</td>\n",
       "      <td>335.602971</td>\n",
       "    </tr>\n",
       "    <tr>\n",
       "      <td>Palau</td>\n",
       "      <td>Guam</td>\n",
       "      <td>800.243081</td>\n",
       "    </tr>\n",
       "    <tr>\n",
       "      <td>Papua New Guinea</td>\n",
       "      <td>Palau</td>\n",
       "      <td>1453.306058</td>\n",
       "    </tr>\n",
       "    <tr>\n",
       "      <td>Guam</td>\n",
       "      <td>Palau</td>\n",
       "      <td>800.243081</td>\n",
       "    </tr>\n",
       "    <tr>\n",
       "      <td>Samoa</td>\n",
       "      <td>Tonga</td>\n",
       "      <td>553.393188</td>\n",
       "    </tr>\n",
       "    <tr>\n",
       "      <td>New Caledonia</td>\n",
       "      <td>Vanuatu</td>\n",
       "      <td>335.602971</td>\n",
       "    </tr>\n",
       "    <tr>\n",
       "      <td>Australia</td>\n",
       "      <td>New Caledonia</td>\n",
       "      <td>1375.924712</td>\n",
       "    </tr>\n",
       "    <tr>\n",
       "      <td>Fiji</td>\n",
       "      <td>Tonga</td>\n",
       "      <td>463.843872</td>\n",
       "    </tr>\n",
       "    <tr>\n",
       "      <td>Tonga</td>\n",
       "      <td>Fiji</td>\n",
       "      <td>463.843872</td>\n",
       "    </tr>\n",
       "  </tbody>\n",
       "</table>\n",
       "</div>"
      ],
      "text/plain": [
       "                        nearest     distance\n",
       "Marshall Islands        Vanuatu  1727.328621\n",
       "French Polynesia          Samoa  1496.953816\n",
       "New Zealand       New Caledonia  1400.483623\n",
       "Vanuatu           New Caledonia   335.602971\n",
       "Palau                      Guam   800.243081\n",
       "Papua New Guinea          Palau  1453.306058\n",
       "Guam                      Palau   800.243081\n",
       "Samoa                     Tonga   553.393188\n",
       "New Caledonia           Vanuatu   335.602971\n",
       "Australia         New Caledonia  1375.924712\n",
       "Fiji                      Tonga   463.843872\n",
       "Tonga                      Fiji   463.843872"
      ]
     },
     "execution_count": 40,
     "metadata": {},
     "output_type": "execute_result"
    }
   ],
   "source": [
    "# each country's nearest neighbor\n",
    "dist_min = australia_df.min()\n",
    "name_min = australia_df.idxmin()\n",
    "pd.concat([name_min, dist_min], axis = 1, keys = ['nearest', 'distance'])"
   ]
  },
  {
   "cell_type": "code",
   "execution_count": 41,
   "metadata": {},
   "outputs": [
    {
     "data": {
      "text/html": [
       "<div>\n",
       "<style scoped>\n",
       "    .dataframe tbody tr th:only-of-type {\n",
       "        vertical-align: middle;\n",
       "    }\n",
       "\n",
       "    .dataframe tbody tr th {\n",
       "        vertical-align: top;\n",
       "    }\n",
       "\n",
       "    .dataframe thead th {\n",
       "        text-align: right;\n",
       "    }\n",
       "</style>\n",
       "<table border=\"1\" class=\"dataframe\">\n",
       "  <thead>\n",
       "    <tr style=\"text-align: right;\">\n",
       "      <th></th>\n",
       "      <th>furthest</th>\n",
       "      <th>distance</th>\n",
       "    </tr>\n",
       "  </thead>\n",
       "  <tbody>\n",
       "    <tr>\n",
       "      <td>Marshall Islands</td>\n",
       "      <td>New Zealand</td>\n",
       "      <td>3348.725378</td>\n",
       "    </tr>\n",
       "    <tr>\n",
       "      <td>French Polynesia</td>\n",
       "      <td>Palau</td>\n",
       "      <td>5447.018761</td>\n",
       "    </tr>\n",
       "    <tr>\n",
       "      <td>New Zealand</td>\n",
       "      <td>Guam</td>\n",
       "      <td>4239.314912</td>\n",
       "    </tr>\n",
       "    <tr>\n",
       "      <td>Vanuatu</td>\n",
       "      <td>Palau</td>\n",
       "      <td>2882.041892</td>\n",
       "    </tr>\n",
       "    <tr>\n",
       "      <td>Palau</td>\n",
       "      <td>French Polynesia</td>\n",
       "      <td>5447.018761</td>\n",
       "    </tr>\n",
       "    <tr>\n",
       "      <td>Papua New Guinea</td>\n",
       "      <td>French Polynesia</td>\n",
       "      <td>4265.757856</td>\n",
       "    </tr>\n",
       "    <tr>\n",
       "      <td>Guam</td>\n",
       "      <td>French Polynesia</td>\n",
       "      <td>4961.131713</td>\n",
       "    </tr>\n",
       "    <tr>\n",
       "      <td>Samoa</td>\n",
       "      <td>Palau</td>\n",
       "      <td>3956.305436</td>\n",
       "    </tr>\n",
       "    <tr>\n",
       "      <td>New Caledonia</td>\n",
       "      <td>Palau</td>\n",
       "      <td>2974.892838</td>\n",
       "    </tr>\n",
       "    <tr>\n",
       "      <td>Australia</td>\n",
       "      <td>French Polynesia</td>\n",
       "      <td>3920.570216</td>\n",
       "    </tr>\n",
       "    <tr>\n",
       "      <td>Fiji</td>\n",
       "      <td>Palau</td>\n",
       "      <td>3468.037102</td>\n",
       "    </tr>\n",
       "    <tr>\n",
       "      <td>Tonga</td>\n",
       "      <td>Palau</td>\n",
       "      <td>3931.843110</td>\n",
       "    </tr>\n",
       "  </tbody>\n",
       "</table>\n",
       "</div>"
      ],
      "text/plain": [
       "                          furthest     distance\n",
       "Marshall Islands       New Zealand  3348.725378\n",
       "French Polynesia             Palau  5447.018761\n",
       "New Zealand                   Guam  4239.314912\n",
       "Vanuatu                      Palau  2882.041892\n",
       "Palau             French Polynesia  5447.018761\n",
       "Papua New Guinea  French Polynesia  4265.757856\n",
       "Guam              French Polynesia  4961.131713\n",
       "Samoa                        Palau  3956.305436\n",
       "New Caledonia                Palau  2974.892838\n",
       "Australia         French Polynesia  3920.570216\n",
       "Fiji                         Palau  3468.037102\n",
       "Tonga                        Palau  3931.843110"
      ]
     },
     "execution_count": 41,
     "metadata": {},
     "output_type": "execute_result"
    }
   ],
   "source": [
    "# each country's furthest neighbor\n",
    "dist_max = australia_df.max()\n",
    "name_max = australia_df.idxmax()\n",
    "pd.concat([name_max, dist_max], axis = 1, keys = ['furthest', 'distance'])"
   ]
  },
  {
   "cell_type": "code",
   "execution_count": 42,
   "metadata": {},
   "outputs": [
    {
     "name": "stderr",
     "output_type": "stream",
     "text": [
      "/Users/jackcassady/opt/anaconda3/lib/python3.7/site-packages/pandas/core/generic.py:2712: UserWarning: The spaces in these column names will not be changed. In pandas versions < 0.14, spaces were converted to underscores.\n",
      "  method=method,\n"
     ]
    }
   ],
   "source": [
    "conn = sqlite3.connect('countries.db')\n",
    "countries.to_sql(\"countries\", conn, if_exists=\"replace\", index=False)\n",
    "capitals.to_sql(\"capitals\", conn, if_exists=\"replace\", index=False)"
   ]
  },
  {
   "cell_type": "code",
   "execution_count": 43,
   "metadata": {
    "scrolled": true
   },
   "outputs": [
    {
     "data": {
      "text/html": [
       "<div>\n",
       "<style scoped>\n",
       "    .dataframe tbody tr th:only-of-type {\n",
       "        vertical-align: middle;\n",
       "    }\n",
       "\n",
       "    .dataframe tbody tr th {\n",
       "        vertical-align: top;\n",
       "    }\n",
       "\n",
       "    .dataframe thead th {\n",
       "        text-align: right;\n",
       "    }\n",
       "</style>\n",
       "<table border=\"1\" class=\"dataframe\">\n",
       "  <thead>\n",
       "    <tr style=\"text-align: right;\">\n",
       "      <th></th>\n",
       "      <th>continent</th>\n",
       "      <th>number of countries</th>\n",
       "    </tr>\n",
       "  </thead>\n",
       "  <tbody>\n",
       "    <tr>\n",
       "      <td>0</td>\n",
       "      <td>Australia</td>\n",
       "      <td>12</td>\n",
       "    </tr>\n",
       "    <tr>\n",
       "      <td>1</td>\n",
       "      <td>South America</td>\n",
       "      <td>12</td>\n",
       "    </tr>\n",
       "    <tr>\n",
       "      <td>2</td>\n",
       "      <td>North America</td>\n",
       "      <td>24</td>\n",
       "    </tr>\n",
       "    <tr>\n",
       "      <td>3</td>\n",
       "      <td>Asia</td>\n",
       "      <td>38</td>\n",
       "    </tr>\n",
       "    <tr>\n",
       "      <td>4</td>\n",
       "      <td>Europe</td>\n",
       "      <td>41</td>\n",
       "    </tr>\n",
       "    <tr>\n",
       "      <td>5</td>\n",
       "      <td>Africa</td>\n",
       "      <td>47</td>\n",
       "    </tr>\n",
       "  </tbody>\n",
       "</table>\n",
       "</div>"
      ],
      "text/plain": [
       "       continent  number of countries\n",
       "0      Australia                   12\n",
       "1  South America                   12\n",
       "2  North America                   24\n",
       "3           Asia                   38\n",
       "4         Europe                   41\n",
       "5         Africa                   47"
      ]
     },
     "execution_count": 43,
     "metadata": {},
     "output_type": "execute_result"
    }
   ],
   "source": [
    "# number of countries in each continent\n",
    "df = pd.read_sql(\"SELECT continent, COUNT(country) AS `number of countries` FROM countries GROUP BY continent ORDER BY COUNT(country) ASC\", conn)\n",
    "df"
   ]
  },
  {
   "cell_type": "code",
   "execution_count": 44,
   "metadata": {
    "scrolled": false
   },
   "outputs": [
    {
     "data": {
      "text/plain": [
       "Text(0, 0.5, 'number of countries')"
      ]
     },
     "execution_count": 44,
     "metadata": {},
     "output_type": "execute_result"
    },
    {
     "data": {
      "image/png": "[encoded data removed]",
      "text/plain": [
       "<Figure size 432x288 with 1 Axes>"
      ]
     },
     "metadata": {
      "needs_background": "light"
     },
     "output_type": "display_data"
    }
   ],
   "source": [
    "# plotting the number of countries by continent\n",
    "ax = df.plot.bar(x=\"continent\", y=\"number of countries\", color='k', legend = False)\n",
    "ax.set_xlabel('continent')\n",
    "ax.set_ylabel(\"number of countries\")"
   ]
  },
  {
   "cell_type": "code",
   "execution_count": 45,
   "metadata": {},
   "outputs": [
    {
     "data": {
      "text/html": [
       "<div>\n",
       "<style scoped>\n",
       "    .dataframe tbody tr th:only-of-type {\n",
       "        vertical-align: middle;\n",
       "    }\n",
       "\n",
       "    .dataframe tbody tr th {\n",
       "        vertical-align: top;\n",
       "    }\n",
       "\n",
       "    .dataframe thead th {\n",
       "        text-align: right;\n",
       "    }\n",
       "</style>\n",
       "<table border=\"1\" class=\"dataframe\">\n",
       "  <thead>\n",
       "    <tr style=\"text-align: right;\">\n",
       "      <th></th>\n",
       "      <th>continent</th>\n",
       "      <th>total population (million)</th>\n",
       "    </tr>\n",
       "  </thead>\n",
       "  <tbody>\n",
       "    <tr>\n",
       "      <td>0</td>\n",
       "      <td>Asia</td>\n",
       "      <td>3739.902863</td>\n",
       "    </tr>\n",
       "    <tr>\n",
       "      <td>1</td>\n",
       "      <td>Africa</td>\n",
       "      <td>807.299195</td>\n",
       "    </tr>\n",
       "    <tr>\n",
       "      <td>2</td>\n",
       "      <td>Europe</td>\n",
       "      <td>792.053486</td>\n",
       "    </tr>\n",
       "    <tr>\n",
       "      <td>3</td>\n",
       "      <td>North America</td>\n",
       "      <td>515.041558</td>\n",
       "    </tr>\n",
       "    <tr>\n",
       "      <td>4</td>\n",
       "      <td>South America</td>\n",
       "      <td>375.441666</td>\n",
       "    </tr>\n",
       "    <tr>\n",
       "      <td>5</td>\n",
       "      <td>Australia</td>\n",
       "      <td>32.163025</td>\n",
       "    </tr>\n",
       "  </tbody>\n",
       "</table>\n",
       "</div>"
      ],
      "text/plain": [
       "       continent  total population (million)\n",
       "0           Asia                 3739.902863\n",
       "1         Africa                  807.299195\n",
       "2         Europe                  792.053486\n",
       "3  North America                  515.041558\n",
       "4  South America                  375.441666\n",
       "5      Australia                   32.163025"
      ]
     },
     "execution_count": 45,
     "metadata": {},
     "output_type": "execute_result"
    }
   ],
   "source": [
    "# total population of each continent\n",
    "cont_pop = pd.read_sql(\"SELECT continent, CAST(SUM(population) AS float)/1000000 AS `total population (million)` FROM countries GROUP BY continent ORDER BY SUM(population) DESC\", conn)\n",
    "cont_pop"
   ]
  },
  {
   "cell_type": "code",
   "execution_count": 46,
   "metadata": {
    "scrolled": false
   },
   "outputs": [
    {
     "data": {
      "text/plain": [
       "Text(0, 0.5, 'total population (million)')"
      ]
     },
     "execution_count": 46,
     "metadata": {},
     "output_type": "execute_result"
    },
    {
     "data": {
      "image/png": "[encoded data removed]",
      "text/plain": [
       "<Figure size 432x288 with 1 Axes>"
      ]
     },
     "metadata": {
      "needs_background": "light"
     },
     "output_type": "display_data"
    }
   ],
   "source": [
    "# plotting the total population of each continent\n",
    "cont_pop_graph = cont_pop.plot.bar(x=\"continent\", y=\"total population (million)\", color='k', legend = False)\n",
    "cont_pop_graph.set_xlabel('continent')\n",
    "cont_pop_graph.set_ylabel(\"total population (million)\")"
   ]
  },
  {
   "cell_type": "code",
   "execution_count": 47,
   "metadata": {
    "scrolled": false
   },
   "outputs": [
    {
     "data": {
      "text/html": [
       "<div>\n",
       "<style scoped>\n",
       "    .dataframe tbody tr th:only-of-type {\n",
       "        vertical-align: middle;\n",
       "    }\n",
       "\n",
       "    .dataframe tbody tr th {\n",
       "        vertical-align: top;\n",
       "    }\n",
       "\n",
       "    .dataframe thead th {\n",
       "        text-align: right;\n",
       "    }\n",
       "</style>\n",
       "<table border=\"1\" class=\"dataframe\">\n",
       "  <thead>\n",
       "    <tr style=\"text-align: right;\">\n",
       "      <th></th>\n",
       "      <th>country</th>\n",
       "      <th>population</th>\n",
       "    </tr>\n",
       "  </thead>\n",
       "  <tbody>\n",
       "    <tr>\n",
       "      <td>0</td>\n",
       "      <td>Brazil</td>\n",
       "      <td>188078227</td>\n",
       "    </tr>\n",
       "    <tr>\n",
       "      <td>1</td>\n",
       "      <td>Colombia</td>\n",
       "      <td>43593035</td>\n",
       "    </tr>\n",
       "    <tr>\n",
       "      <td>2</td>\n",
       "      <td>Argentina</td>\n",
       "      <td>39921833</td>\n",
       "    </tr>\n",
       "    <tr>\n",
       "      <td>3</td>\n",
       "      <td>Peru</td>\n",
       "      <td>28302603</td>\n",
       "    </tr>\n",
       "    <tr>\n",
       "      <td>4</td>\n",
       "      <td>Venezuela</td>\n",
       "      <td>25730435</td>\n",
       "    </tr>\n",
       "    <tr>\n",
       "      <td>5</td>\n",
       "      <td>Chile</td>\n",
       "      <td>16134219</td>\n",
       "    </tr>\n",
       "    <tr>\n",
       "      <td>6</td>\n",
       "      <td>Ecuador</td>\n",
       "      <td>13547510</td>\n",
       "    </tr>\n",
       "    <tr>\n",
       "      <td>7</td>\n",
       "      <td>Bolivia</td>\n",
       "      <td>8989046</td>\n",
       "    </tr>\n",
       "    <tr>\n",
       "      <td>8</td>\n",
       "      <td>Paraguay</td>\n",
       "      <td>6506464</td>\n",
       "    </tr>\n",
       "    <tr>\n",
       "      <td>9</td>\n",
       "      <td>Uruguay</td>\n",
       "      <td>3431932</td>\n",
       "    </tr>\n",
       "    <tr>\n",
       "      <td>10</td>\n",
       "      <td>Guyana</td>\n",
       "      <td>767245</td>\n",
       "    </tr>\n",
       "    <tr>\n",
       "      <td>11</td>\n",
       "      <td>Suriname</td>\n",
       "      <td>439117</td>\n",
       "    </tr>\n",
       "  </tbody>\n",
       "</table>\n",
       "</div>"
      ],
      "text/plain": [
       "      country  population\n",
       "0      Brazil   188078227\n",
       "1    Colombia    43593035\n",
       "2   Argentina    39921833\n",
       "3        Peru    28302603\n",
       "4   Venezuela    25730435\n",
       "5       Chile    16134219\n",
       "6     Ecuador    13547510\n",
       "7     Bolivia     8989046\n",
       "8    Paraguay     6506464\n",
       "9     Uruguay     3431932\n",
       "10     Guyana      767245\n",
       "11   Suriname      439117"
      ]
     },
     "execution_count": 47,
     "metadata": {},
     "output_type": "execute_result"
    }
   ],
   "source": [
    "# population of countries in South America\n",
    "sam_pop = pd.read_sql(\"SELECT country, population FROM countries WHERE continent = 'South America' ORDER BY population DESC\", conn)\n",
    "sam_pop"
   ]
  },
  {
   "cell_type": "code",
   "execution_count": 48,
   "metadata": {},
   "outputs": [
    {
     "data": {
      "text/html": [
       "<div>\n",
       "<style scoped>\n",
       "    .dataframe tbody tr th:only-of-type {\n",
       "        vertical-align: middle;\n",
       "    }\n",
       "\n",
       "    .dataframe tbody tr th {\n",
       "        vertical-align: top;\n",
       "    }\n",
       "\n",
       "    .dataframe thead th {\n",
       "        text-align: right;\n",
       "    }\n",
       "</style>\n",
       "<table border=\"1\" class=\"dataframe\">\n",
       "  <thead>\n",
       "    <tr style=\"text-align: right;\">\n",
       "      <th></th>\n",
       "      <th>country</th>\n",
       "      <th>real GDP (billion)</th>\n",
       "    </tr>\n",
       "  </thead>\n",
       "  <tbody>\n",
       "    <tr>\n",
       "      <td>0</td>\n",
       "      <td>United States</td>\n",
       "      <td>11281.191327</td>\n",
       "    </tr>\n",
       "    <tr>\n",
       "      <td>1</td>\n",
       "      <td>China</td>\n",
       "      <td>6569.868565</td>\n",
       "    </tr>\n",
       "    <tr>\n",
       "      <td>2</td>\n",
       "      <td>Japan</td>\n",
       "      <td>3594.473830</td>\n",
       "    </tr>\n",
       "    <tr>\n",
       "      <td>3</td>\n",
       "      <td>India</td>\n",
       "      <td>3176.520785</td>\n",
       "    </tr>\n",
       "    <tr>\n",
       "      <td>4</td>\n",
       "      <td>Germany</td>\n",
       "      <td>2274.855452</td>\n",
       "    </tr>\n",
       "    <tr>\n",
       "      <td>5</td>\n",
       "      <td>France</td>\n",
       "      <td>1680.181354</td>\n",
       "    </tr>\n",
       "    <tr>\n",
       "      <td>6</td>\n",
       "      <td>United Kingdom</td>\n",
       "      <td>1678.873538</td>\n",
       "    </tr>\n",
       "    <tr>\n",
       "      <td>7</td>\n",
       "      <td>Italy</td>\n",
       "      <td>1552.164690</td>\n",
       "    </tr>\n",
       "    <tr>\n",
       "      <td>8</td>\n",
       "      <td>Brazil</td>\n",
       "      <td>1429.394525</td>\n",
       "    </tr>\n",
       "    <tr>\n",
       "      <td>9</td>\n",
       "      <td>Russia</td>\n",
       "      <td>1271.752506</td>\n",
       "    </tr>\n",
       "  </tbody>\n",
       "</table>\n",
       "</div>"
      ],
      "text/plain": [
       "          country  real GDP (billion)\n",
       "0   United States        11281.191327\n",
       "1           China         6569.868565\n",
       "2           Japan         3594.473830\n",
       "3           India         3176.520785\n",
       "4         Germany         2274.855452\n",
       "5          France         1680.181354\n",
       "6  United Kingdom         1678.873538\n",
       "7           Italy         1552.164690\n",
       "8          Brazil         1429.394525\n",
       "9          Russia         1271.752506"
      ]
     },
     "execution_count": 48,
     "metadata": {},
     "output_type": "execute_result"
    }
   ],
   "source": [
    "# top ten countries based on GDP\n",
    "real_gdp = pd.read_sql(\"SELECT country, CAST(population*`gdp-per-capita` AS float)/1000000000 AS `real GDP (billion)` FROM countries ORDER BY `real GDP (billion)` DESC LIMIT 10\", conn)\n",
    "real_gdp"
   ]
  },
  {
   "cell_type": "code",
   "execution_count": 49,
   "metadata": {
    "scrolled": false
   },
   "outputs": [
    {
     "data": {
      "text/plain": [
       "Text(0, 0.5, 'real GDP (billion)')"
      ]
     },
     "execution_count": 49,
     "metadata": {},
     "output_type": "execute_result"
    },
    {
     "data": {
      "image/png": "[encoded data removed]",
      "text/plain": [
       "<Figure size 432x288 with 1 Axes>"
      ]
     },
     "metadata": {
      "needs_background": "light"
     },
     "output_type": "display_data"
    }
   ],
   "source": [
    "# plot of countries GDP\n",
    "tot_gdp = pd.read_sql(\"SELECT country, CAST(population*`gdp-per-capita` AS float)/1000000000 AS `real GDP (billion)` FROM countries ORDER BY `real GDP (billion)` DESC\", conn)\n",
    "other_gdp = tot_gdp[10:]\n",
    "for x in other_gdp:\n",
    "    other_tot = sum(other_gdp['real GDP (billion)'])\n",
    "    \n",
    "data = {'country': ['other'],\n",
    "       'real GDP (billion)': [other_tot]}\n",
    "gdp_w_other = pd.concat([real_gdp, DataFrame(data)])\n",
    "\n",
    "gdp_graph = gdp_w_other.plot.bar(x=\"country\", y=\"real GDP (billion)\", color='k', legend = False)\n",
    "gdp_graph.set_xlabel('country')\n",
    "gdp_graph.set_ylabel(\"real GDP (billion)\")"
   ]
  },
  {
   "cell_type": "code",
   "execution_count": 50,
   "metadata": {},
   "outputs": [
    {
     "data": {
      "text/html": [
       "<div>\n",
       "<style scoped>\n",
       "    .dataframe tbody tr th:only-of-type {\n",
       "        vertical-align: middle;\n",
       "    }\n",
       "\n",
       "    .dataframe tbody tr th {\n",
       "        vertical-align: top;\n",
       "    }\n",
       "\n",
       "    .dataframe thead th {\n",
       "        text-align: right;\n",
       "    }\n",
       "</style>\n",
       "<table border=\"1\" class=\"dataframe\">\n",
       "  <thead>\n",
       "    <tr style=\"text-align: right;\">\n",
       "      <th></th>\n",
       "      <th>country</th>\n",
       "      <th>birth-rate</th>\n",
       "      <th>death-rate</th>\n",
       "    </tr>\n",
       "  </thead>\n",
       "  <tbody>\n",
       "    <tr>\n",
       "      <td>0</td>\n",
       "      <td>Uganda</td>\n",
       "      <td>47.35</td>\n",
       "      <td>12.24</td>\n",
       "    </tr>\n",
       "    <tr>\n",
       "      <td>1</td>\n",
       "      <td>Yemen</td>\n",
       "      <td>42.89</td>\n",
       "      <td>8.30</td>\n",
       "    </tr>\n",
       "    <tr>\n",
       "      <td>2</td>\n",
       "      <td>Mali</td>\n",
       "      <td>49.82</td>\n",
       "      <td>16.89</td>\n",
       "    </tr>\n",
       "    <tr>\n",
       "      <td>3</td>\n",
       "      <td>Oman</td>\n",
       "      <td>36.24</td>\n",
       "      <td>3.81</td>\n",
       "    </tr>\n",
       "    <tr>\n",
       "      <td>4</td>\n",
       "      <td>Madagascar</td>\n",
       "      <td>41.41</td>\n",
       "      <td>11.11</td>\n",
       "    </tr>\n",
       "    <tr>\n",
       "      <td>5</td>\n",
       "      <td>Burkina Faso</td>\n",
       "      <td>45.62</td>\n",
       "      <td>15.60</td>\n",
       "    </tr>\n",
       "    <tr>\n",
       "      <td>6</td>\n",
       "      <td>Niger</td>\n",
       "      <td>50.73</td>\n",
       "      <td>20.91</td>\n",
       "    </tr>\n",
       "    <tr>\n",
       "      <td>7</td>\n",
       "      <td>Chad</td>\n",
       "      <td>45.73</td>\n",
       "      <td>16.38</td>\n",
       "    </tr>\n",
       "    <tr>\n",
       "      <td>8</td>\n",
       "      <td>Mauritania</td>\n",
       "      <td>40.99</td>\n",
       "      <td>12.16</td>\n",
       "    </tr>\n",
       "    <tr>\n",
       "      <td>9</td>\n",
       "      <td>Burundi</td>\n",
       "      <td>42.22</td>\n",
       "      <td>13.46</td>\n",
       "    </tr>\n",
       "    <tr>\n",
       "      <td>10</td>\n",
       "      <td>Comoros</td>\n",
       "      <td>36.93</td>\n",
       "      <td>8.20</td>\n",
       "    </tr>\n",
       "    <tr>\n",
       "      <td>11</td>\n",
       "      <td>Somalia</td>\n",
       "      <td>45.13</td>\n",
       "      <td>16.63</td>\n",
       "    </tr>\n",
       "    <tr>\n",
       "      <td>12</td>\n",
       "      <td>Marshall Islands</td>\n",
       "      <td>33.05</td>\n",
       "      <td>4.78</td>\n",
       "    </tr>\n",
       "    <tr>\n",
       "      <td>13</td>\n",
       "      <td>Maldives</td>\n",
       "      <td>34.81</td>\n",
       "      <td>7.06</td>\n",
       "    </tr>\n",
       "    <tr>\n",
       "      <td>14</td>\n",
       "      <td>Togo</td>\n",
       "      <td>37.01</td>\n",
       "      <td>9.83</td>\n",
       "    </tr>\n",
       "  </tbody>\n",
       "</table>\n",
       "</div>"
      ],
      "text/plain": [
       "             country  birth-rate  death-rate\n",
       "0             Uganda       47.35       12.24\n",
       "1              Yemen       42.89        8.30\n",
       "2               Mali       49.82       16.89\n",
       "3               Oman       36.24        3.81\n",
       "4         Madagascar       41.41       11.11\n",
       "5       Burkina Faso       45.62       15.60\n",
       "6              Niger       50.73       20.91\n",
       "7               Chad       45.73       16.38\n",
       "8         Mauritania       40.99       12.16\n",
       "9            Burundi       42.22       13.46\n",
       "10           Comoros       36.93        8.20\n",
       "11           Somalia       45.13       16.63\n",
       "12  Marshall Islands       33.05        4.78\n",
       "13          Maldives       34.81        7.06\n",
       "14              Togo       37.01        9.83"
      ]
     },
     "execution_count": 50,
     "metadata": {},
     "output_type": "execute_result"
    }
   ],
   "source": [
    "# countries with the largest gap between birth and death rate\n",
    "gap = pd.read_sql(\"SELECT country, `birth-rate`, `death-rate` FROM countries ORDER BY `birth-rate`-`death-rate` DESC LIMIT 15\", conn)\n",
    "gap"
   ]
  },
  {
   "cell_type": "code",
   "execution_count": 51,
   "metadata": {},
   "outputs": [
    {
     "data": {
      "text/plain": [
       "Text(0.5, 0, 'rate')"
      ]
     },
     "execution_count": 51,
     "metadata": {},
     "output_type": "execute_result"
    },
    {
     "data": {
      "image/png": "[encoded data removed]",
      "text/plain": [
       "<Figure size 432x288 with 1 Axes>"
      ]
     },
     "metadata": {
      "needs_background": "light"
     },
     "output_type": "display_data"
    }
   ],
   "source": [
    "# plotting the countries with the largest gap between birth and death rate\n",
    "matplotlib.rcParams[\"font.size\"] = 12\n",
    "gap_graph = gap.plot.barh(x=\"country\", y = [\"death-rate\", \"birth-rate\"], color=['blue', 'orange'], legend = True) \n",
    "gap_graph.set_xlim(0, 80)\n",
    "gap_graph.set_ylabel(\"country\")\n",
    "gap_graph.set_xlabel(\"rate\")"
   ]
  },
  {
   "cell_type": "code",
   "execution_count": 52,
   "metadata": {},
   "outputs": [
    {
     "data": {
      "image/png": "[encoded data removed]",
      "text/plain": [
       "<Figure size 432x288 with 1 Axes>"
      ]
     },
     "metadata": {
      "needs_background": "light"
     },
     "output_type": "display_data"
    }
   ],
   "source": [
    "# relationships between birth and death rates\n",
    "tot_gap = pd.read_sql(\"SELECT country, `birth-rate`, `death-rate` FROM countries ORDER BY `birth-rate`-`death-rate` DESC\", conn)\n",
    "gap_plot = tot_gap.plot.scatter(x='death-rate', y='birth-rate', c='k')"
   ]
  },
  {
   "cell_type": "code",
   "execution_count": 53,
   "metadata": {},
   "outputs": [
    {
     "data": {
      "text/html": [
       "<div>\n",
       "<style scoped>\n",
       "    .dataframe tbody tr th:only-of-type {\n",
       "        vertical-align: middle;\n",
       "    }\n",
       "\n",
       "    .dataframe tbody tr th {\n",
       "        vertical-align: top;\n",
       "    }\n",
       "\n",
       "    .dataframe thead th {\n",
       "        text-align: right;\n",
       "    }\n",
       "</style>\n",
       "<table border=\"1\" class=\"dataframe\">\n",
       "  <thead>\n",
       "    <tr style=\"text-align: right;\">\n",
       "      <th></th>\n",
       "      <th>country</th>\n",
       "      <th>birth-rate</th>\n",
       "      <th>death-rate</th>\n",
       "    </tr>\n",
       "  </thead>\n",
       "  <tbody>\n",
       "    <tr>\n",
       "      <td>0</td>\n",
       "      <td>Namibia</td>\n",
       "      <td>24.32</td>\n",
       "      <td>18.86</td>\n",
       "    </tr>\n",
       "    <tr>\n",
       "      <td>1</td>\n",
       "      <td>Zimbabwe</td>\n",
       "      <td>28.01</td>\n",
       "      <td>21.84</td>\n",
       "    </tr>\n",
       "    <tr>\n",
       "      <td>2</td>\n",
       "      <td>South Africa</td>\n",
       "      <td>18.20</td>\n",
       "      <td>22.00</td>\n",
       "    </tr>\n",
       "    <tr>\n",
       "      <td>3</td>\n",
       "      <td>Lesotho</td>\n",
       "      <td>24.75</td>\n",
       "      <td>28.71</td>\n",
       "    </tr>\n",
       "    <tr>\n",
       "      <td>4</td>\n",
       "      <td>Botswana</td>\n",
       "      <td>23.08</td>\n",
       "      <td>29.50</td>\n",
       "    </tr>\n",
       "    <tr>\n",
       "      <td>5</td>\n",
       "      <td>Swaziland</td>\n",
       "      <td>27.41</td>\n",
       "      <td>29.74</td>\n",
       "    </tr>\n",
       "  </tbody>\n",
       "</table>\n",
       "</div>"
      ],
      "text/plain": [
       "        country  birth-rate  death-rate\n",
       "0       Namibia       24.32       18.86\n",
       "1      Zimbabwe       28.01       21.84\n",
       "2  South Africa       18.20       22.00\n",
       "3       Lesotho       24.75       28.71\n",
       "4      Botswana       23.08       29.50\n",
       "5     Swaziland       27.41       29.74"
      ]
     },
     "execution_count": 53,
     "metadata": {},
     "output_type": "execute_result"
    }
   ],
   "source": [
    "# identifying outliers in birth and death rate graphs\n",
    "outliers = pd.read_sql(\"SELECT country, `birth-rate`, `death-rate` FROM countries WHERE `birth-rate` BETWEEN 15 AND 30 AND `death-rate` BETWEEN 17 AND 31 ORDER BY `death-rate` ASC\", conn)\n",
    "outliers"
   ]
  },
  {
   "cell_type": "code",
   "execution_count": 54,
   "metadata": {},
   "outputs": [
    {
     "data": {
      "text/plain": [
       "0.39650861177525115"
      ]
     },
     "execution_count": 54,
     "metadata": {},
     "output_type": "execute_result"
    }
   ],
   "source": [
    "# correlation between death rates and birth rates\n",
    "tot_gap.corr().loc['birth-rate']['death-rate']"
   ]
  },
  {
   "cell_type": "code",
   "execution_count": 55,
   "metadata": {},
   "outputs": [
    {
     "data": {
      "text/plain": [
       "<matplotlib.axes._subplots.AxesSubplot at 0x1177b48d0>"
      ]
     },
     "execution_count": 55,
     "metadata": {},
     "output_type": "execute_result"
    },
    {
     "data": {
      "image/png": "[encoded data removed]",
      "text/plain": [
       "<Figure size 432x288 with 1 Axes>"
      ]
     },
     "metadata": {
      "needs_background": "light"
     },
     "output_type": "display_data"
    }
   ],
   "source": [
    "# relationship between GDP per capita and the number of phones per capita\n",
    "phones_gdp = pd.read_sql(\"SELECT CAST(phones AS float) AS phones, `gdp-per-capita` FROM countries\", conn)\n",
    "phones_gdp.plot.scatter(x='gdp-per-capita', y='phones', c='k')"
   ]
  },
  {
   "cell_type": "code",
   "execution_count": 56,
   "metadata": {},
   "outputs": [
    {
     "data": {
      "text/plain": [
       "0.8787244489303161"
      ]
     },
     "execution_count": 56,
     "metadata": {},
     "output_type": "execute_result"
    }
   ],
   "source": [
    "# correlation between GDP per capita and number of phones per capita\n",
    "phones_gdp.corr()['phones']['gdp-per-capita']"
   ]
  },
  {
   "cell_type": "code",
   "execution_count": 57,
   "metadata": {},
   "outputs": [
    {
     "data": {
      "text/plain": [
       "<matplotlib.axes._subplots.AxesSubplot at 0x117959450>"
      ]
     },
     "execution_count": 57,
     "metadata": {},
     "output_type": "execute_result"
    },
    {
     "data": {
      "image/png": "[encoded data removed]",
      "text/plain": [
       "<Figure size 432x288 with 1 Axes>"
      ]
     },
     "metadata": {
      "needs_background": "light"
     },
     "output_type": "display_data"
    }
   ],
   "source": [
    "# relationship between literacy and GDP per capita\n",
    "lit_gdp = pd.read_sql(\"SELECT CAST(literacy AS float) AS literacy, `gdp-per-capita` FROM countries\", conn)\n",
    "lit_gdp.plot.scatter(y='gdp-per-capita', x='literacy', c='k')"
   ]
  },
  {
   "cell_type": "code",
   "execution_count": 58,
   "metadata": {},
   "outputs": [
    {
     "data": {
      "text/plain": [
       "<matplotlib.axes._subplots.AxesSubplot at 0x117a7cf50>"
      ]
     },
     "execution_count": 58,
     "metadata": {},
     "output_type": "execute_result"
    },
    {
     "data": {
      "image/png": "[encoded data removed]",
      "text/plain": [
       "<Figure size 432x288 with 1 Axes>"
      ]
     },
     "metadata": {
      "needs_background": "light"
     },
     "output_type": "display_data"
    }
   ],
   "source": [
    "# relationship between GDP per capita and death rates\n",
    "death_gdp = pd.read_sql(\"SELECT `death-rate`, `gdp-per-capita` FROM countries\", conn)\n",
    "death_gdp.plot.scatter(x='gdp-per-capita', y='death-rate', c='k')"
   ]
  },
  {
   "cell_type": "code",
   "execution_count": 59,
   "metadata": {},
   "outputs": [
    {
     "data": {
      "text/plain": [
       "<matplotlib.axes._subplots.AxesSubplot at 0x117bf1bd0>"
      ]
     },
     "execution_count": 59,
     "metadata": {},
     "output_type": "execute_result"
    },
    {
     "data": {
      "image/png": "[encoded data removed]",
      "text/plain": [
       "<Figure size 432x288 with 1 Axes>"
      ]
     },
     "metadata": {
      "needs_background": "light"
     },
     "output_type": "display_data"
    }
   ],
   "source": [
    "# relationship between GDP per capita and birth rates\n",
    "birth_gdp = pd.read_sql(\"SELECT `birth-rate`, `gdp-per-capita` FROM countries\", conn)\n",
    "birth_gdp.plot.scatter(x='gdp-per-capita', y='birth-rate', c='k')"
   ]
  },
  {
   "cell_type": "code",
   "execution_count": 60,
   "metadata": {
    "scrolled": false
   },
   "outputs": [
    {
     "data": {
      "text/plain": [
       "<matplotlib.axes._subplots.AxesSubplot at 0x117a43810>"
      ]
     },
     "execution_count": 60,
     "metadata": {},
     "output_type": "execute_result"
    },
    {
     "data": {
      "image/png": "[encoded data removed]",
      "text/plain": [
       "<Figure size 432x288 with 1 Axes>"
      ]
     },
     "metadata": {
      "needs_background": "light"
     },
     "output_type": "display_data"
    }
   ],
   "source": [
    "# relationship between GDP per capita and the inverse of birth rates\n",
    "inv_birth_gdp = pd.read_sql(\"SELECT 1/`birth-rate` AS inverse, `gdp-per-capita` FROM countries\", conn)\n",
    "inv_birth_gdp.plot.scatter(x='gdp-per-capita', y='inverse', c='k')"
   ]
  },
  {
   "cell_type": "code",
   "execution_count": 61,
   "metadata": {},
   "outputs": [
    {
     "data": {
      "text/plain": [
       "(1.8365703926233426e-06, 0.03916624252079354)"
      ]
     },
     "execution_count": 61,
     "metadata": {},
     "output_type": "execute_result"
    }
   ],
   "source": [
    "# fitting a linear regression line to GDP per capita and the inverse of birth rates\n",
    "inv_birth_gdp['1'] = 1\n",
    "res = np.linalg.lstsq(inv_birth_gdp[[\"gdp-per-capita\", \"1\"]], inv_birth_gdp[\"inverse\"], rcond=None)\n",
    "coefficients = res[0]\n",
    "m = coefficients[0]\n",
    "n = coefficients[1]\n",
    "\n",
    "# coefficients of linear regression line\n",
    "vals = (m, n)\n",
    "vals"
   ]
  },
  {
   "cell_type": "code",
   "execution_count": 62,
   "metadata": {
    "scrolled": true
   },
   "outputs": [
    {
     "data": {
      "text/plain": [
       "<matplotlib.axes._subplots.AxesSubplot at 0x117daa1d0>"
      ]
     },
     "execution_count": 62,
     "metadata": {},
     "output_type": "execute_result"
    },
    {
     "data": {
      "image/png": "[encoded data removed]",
      "text/plain": [
       "<Figure size 432x288 with 1 Axes>"
      ]
     },
     "metadata": {
      "needs_background": "light"
     },
     "output_type": "display_data"
    }
   ],
   "source": [
    "# plotting linear regression line with data\n",
    "ax = inv_birth_gdp.plot.scatter(x='gdp-per-capita', y='inverse', c='k')\n",
    "\n",
    "inv_birth_gdp[\"fit\"] = inv_birth_gdp[\"gdp-per-capita\"] * m + n\n",
    "inv_birth_gdp.plot.line(x='gdp-per-capita', y='fit', c='red', ax=ax)"
   ]
  },
  {
   "cell_type": "code",
   "execution_count": 63,
   "metadata": {},
   "outputs": [],
   "source": [
    "conn.close()"
   ]
  }
 ],
 "metadata": {
  "kernelspec": {
   "display_name": "Python 3",
   "language": "python",
   "name": "python3"
  },
  "language_info": {
   "codemirror_mode": {
    "name": "ipython",
    "version": 3
   },
   "file_extension": ".py",
   "mimetype": "text/x-python",
   "name": "python",
   "nbconvert_exporter": "python",
   "pygments_lexer": "ipython3",
   "version": "3.7.4"
  }
 },
 "nbformat": 4,
 "nbformat_minor": 2
}
